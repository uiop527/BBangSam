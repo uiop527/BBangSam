{
  "nbformat": 4,
  "nbformat_minor": 0,
  "metadata": {
    "colab": {
      "name": "환경 설정.ipynb",
      "provenance": [],
      "collapsed_sections": [],
      "mount_file_id": "1qIaCxDVqbzW9PVuQtfJmJW3Wo2MJot2N",
      "authorship_tag": "ABX9TyP03D4mvcRb2S0QWSWungR7"
    },
    "kernelspec": {
      "name": "python3",
      "display_name": "Python 3"
    },
    "language_info": {
      "name": "python"
    },
    "accelerator": "GPU"
  },
  "cells": [
    {
      "cell_type": "markdown",
      "metadata": {
        "id": "T0Y_0qDHUXTw"
      },
      "source": [
        "### **현재 googlc colab에 설치된 python version 확인**"
      ]
    },
    {
      "cell_type": "code",
      "metadata": {
        "colab": {
          "base_uri": "https://localhost:8080/"
        },
        "id": "tWq66vgnUWY-",
        "outputId": "2a706b04-cdf2-4be8-fae7-de8a1c6fe831"
      },
      "source": [
        "import sys\n",
        "print(sys.version)"
      ],
      "execution_count": null,
      "outputs": [
        {
          "output_type": "stream",
          "name": "stdout",
          "text": [
            "3.7.12 (default, Sep 10 2021, 00:21:48) \n",
            "[GCC 7.5.0]\n"
          ]
        }
      ]
    },
    {
      "cell_type": "markdown",
      "metadata": {
        "id": "6JmFE9E1VXMd"
      },
      "source": [
        "### **Python 3.6.0 version install**"
      ]
    },
    {
      "cell_type": "code",
      "metadata": {
        "id": "z05ZcBVoUkqK"
      },
      "source": [
        "!wget https://www.python.org/ftp/python/3.6.0/Python-3.6.0.tgz\n",
        "!tar xvfz Python-3.6.0.tgz\n",
        "!Python-3.6.0/configure\n",
        "!make\n",
        "!sudo make install"
      ],
      "execution_count": null,
      "outputs": []
    },
    {
      "cell_type": "markdown",
      "metadata": {
        "id": "c-qLhCjSV3Hq"
      },
      "source": [
        "### **Version checking after download**"
      ]
    },
    {
      "cell_type": "code",
      "metadata": {
        "colab": {
          "base_uri": "https://localhost:8080/"
        },
        "id": "zGyQjJn9VyIx",
        "outputId": "438511b0-9ae1-4650-89d3-e4254e4c248e"
      },
      "source": [
        "!python -V"
      ],
      "execution_count": null,
      "outputs": [
        {
          "output_type": "stream",
          "name": "stdout",
          "text": [
            "Python 3.6.0\n"
          ]
        }
      ]
    },
    {
      "cell_type": "markdown",
      "metadata": {
        "id": "fLY-j4PEXR-6"
      },
      "source": [
        "### **Mount하는 방법 = google drive랑 연동**\n",
        "종합설계= mount할 폴더 명"
      ]
    },
    {
      "cell_type": "code",
      "metadata": {
        "colab": {
          "base_uri": "https://localhost:8080/"
        },
        "id": "8bFydSi_Wszp",
        "outputId": "ef827600-d15b-44d5-db9d-20b9dd592ce9"
      },
      "source": [
        "from google.colab import drive\n",
        "drive.mount('/content/종합설계')"
      ],
      "execution_count": null,
      "outputs": [
        {
          "output_type": "stream",
          "name": "stdout",
          "text": [
            "Mounted at /content/종합설계\n"
          ]
        }
      ]
    },
    {
      "cell_type": "markdown",
      "metadata": {
        "id": "QzjFhk1pXbBq"
      },
      "source": [
        "그러면 왼쪽 폴더에 drive 폴더에 생길 것임"
      ]
    },
    {
      "cell_type": "markdown",
      "metadata": {
        "id": "7l6DuMFSZd1O"
      },
      "source": [
        "### **Install Pytorch**\n",
        "버전에 따라 pytorch가 이미 설치되어 있을 수도 있음"
      ]
    },
    {
      "cell_type": "code",
      "metadata": {
        "id": "r8oAEa4TXvLo"
      },
      "source": [
        "import torch"
      ],
      "execution_count": null,
      "outputs": []
    },
    {
      "cell_type": "markdown",
      "metadata": {
        "id": "S726ZrI-ZKvI"
      },
      "source": [
        "Install torchvision "
      ]
    },
    {
      "cell_type": "code",
      "metadata": {
        "id": "hSJgZqpbZFUj"
      },
      "source": [
        "!pip3 install torch torchvision"
      ],
      "execution_count": null,
      "outputs": []
    },
    {
      "cell_type": "markdown",
      "metadata": {
        "id": "l2kFE-P3ZuXA"
      },
      "source": [
        "Torch, cuda, cudnn version checking"
      ]
    },
    {
      "cell_type": "code",
      "metadata": {
        "colab": {
          "base_uri": "https://localhost:8080/"
        },
        "id": "DzCmF2PQZai1",
        "outputId": "9195607a-0604-4d3e-e4d0-8a73ac69ddb4"
      },
      "source": [
        "import torch\n",
        "\n",
        "print(\"Torch version:{}\".format(torch.__version__))\n",
        "print(\"cuda version: {}\".format(torch.version.cuda))\n",
        "print(\"cudnn version:{}\".format(torch.backends.cudnn.version()))"
      ],
      "execution_count": null,
      "outputs": [
        {
          "output_type": "stream",
          "name": "stdout",
          "text": [
            "Torch version:1.9.0+cu111\n",
            "cuda version: 11.1\n",
            "cudnn version:8005\n"
          ]
        }
      ]
    },
    {
      "cell_type": "markdown",
      "metadata": {
        "id": "Ky5pSdWCaOO9"
      },
      "source": [
        "### YOLO v3 버전 open source\n",
        "[링크 텍스트](https://deep-learning-study.tistory.com/411)"
      ]
    },
    {
      "cell_type": "markdown",
      "metadata": {
        "id": "yFGBCdjFab9u"
      },
      "source": [
        "colab에 down받기"
      ]
    },
    {
      "cell_type": "code",
      "metadata": {
        "id": "HFwyddZlaXbQ"
      },
      "source": [
        "!git clone https://deep-learning-study.tistory.com/411"
      ],
      "execution_count": null,
      "outputs": []
    }
  ]
}