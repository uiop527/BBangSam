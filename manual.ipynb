{
  "nbformat": 4,
  "nbformat_minor": 0,
  "metadata": {
    "colab": {
      "name": "manual.ipynb",
      "provenance": [],
      "collapsed_sections": [],
      "authorship_tag": "ABX9TyNASmoC0nYjLpX4dBj8E+b3"
    },
    "kernelspec": {
      "name": "python3",
      "display_name": "Python 3"
    },
    "language_info": {
      "name": "python"
    },
    "accelerator": "GPU"
  },
  "cells": [
    {
      "cell_type": "markdown",
      "metadata": {
        "id": "UwP0Xkl_xtCA"
      },
      "source": [
        "### **Python version checking**"
      ]
    },
    {
      "cell_type": "code",
      "metadata": {
        "colab": {
          "base_uri": "https://localhost:8080/"
        },
        "id": "PQXmneRUywHD",
        "outputId": "8eac7ebd-d4fb-4bf8-dd43-fa35e746f93d"
      },
      "source": [
        "import sys\n",
        "print(sys.version)"
      ],
      "execution_count": null,
      "outputs": [
        {
          "output_type": "stream",
          "name": "stdout",
          "text": [
            "3.7.12 (default, Sep 10 2021, 00:21:48) \n",
            "[GCC 7.5.0]\n"
          ]
        }
      ]
    },
    {
      "cell_type": "markdown",
      "metadata": {
        "id": "EAY-2Xhoy7Tq"
      },
      "source": [
        "### **Pytorch Installation**"
      ]
    },
    {
      "cell_type": "code",
      "metadata": {
        "colab": {
          "base_uri": "https://localhost:8080/"
        },
        "id": "H8CcQ1Bjy_MX",
        "outputId": "859585cf-566c-4e7a-d31c-4266d6a8858d"
      },
      "source": [
        "!pip3 install torch torchvision"
      ],
      "execution_count": null,
      "outputs": [
        {
          "output_type": "stream",
          "name": "stdout",
          "text": [
            "Requirement already satisfied: torch in /usr/local/lib/python3.7/dist-packages (1.9.0+cu111)\n",
            "Requirement already satisfied: torchvision in /usr/local/lib/python3.7/dist-packages (0.10.0+cu111)\n",
            "Requirement already satisfied: typing-extensions in /usr/local/lib/python3.7/dist-packages (from torch) (3.7.4.3)\n",
            "Requirement already satisfied: pillow>=5.3.0 in /usr/local/lib/python3.7/dist-packages (from torchvision) (7.1.2)\n",
            "Requirement already satisfied: numpy in /usr/local/lib/python3.7/dist-packages (from torchvision) (1.19.5)\n"
          ]
        }
      ]
    },
    {
      "cell_type": "code",
      "metadata": {
        "id": "diyg1_MczGH4"
      },
      "source": [
        "import torch"
      ],
      "execution_count": null,
      "outputs": []
    },
    {
      "cell_type": "markdown",
      "metadata": {
        "id": "yk_wiJRRz4YI"
      },
      "source": [
        "### pytorch, cuda, cudnn이 제대로 설치 되었는지 확인"
      ]
    },
    {
      "cell_type": "code",
      "metadata": {
        "colab": {
          "base_uri": "https://localhost:8080/"
        },
        "id": "zJscwcxnzSjJ",
        "outputId": "202d2a4e-0563-4398-f47a-a8b0aee6b645"
      },
      "source": [
        "import torch\n",
        "\n",
        "print(\"Torch version: {}\".format(torch.__version__))\n",
        "print(\"cuda version: {}\".format(torch.version.cuda))\n",
        "print(\"cudnn version: {}\".format(torch.backends.cudnn.version()))"
      ],
      "execution_count": null,
      "outputs": [
        {
          "output_type": "stream",
          "name": "stdout",
          "text": [
            "Torch version: 1.9.0+cu111\n",
            "cuda version: 11.1\n",
            "cudnn version: 8005\n"
          ]
        }
      ]
    },
    {
      "cell_type": "code",
      "metadata": {
        "colab": {
          "base_uri": "https://localhost:8080/"
        },
        "id": "cXYQb4IVz-OM",
        "outputId": "97fe4a62-974a-4596-a633-8b7e477ed172"
      },
      "source": [
        "cpu_tensor = torch.zeros(2,3)\n",
        "print(cpu_tensor)"
      ],
      "execution_count": null,
      "outputs": [
        {
          "output_type": "stream",
          "name": "stdout",
          "text": [
            "tensor([[0., 0., 0.],\n",
            "        [0., 0., 0.]])\n"
          ]
        }
      ]
    },
    {
      "cell_type": "markdown",
      "metadata": {
        "id": "kNHScUIc0UdP"
      },
      "source": [
        "### Allocate tensor on GPU"
      ]
    },
    {
      "cell_type": "code",
      "metadata": {
        "colab": {
          "base_uri": "https://localhost:8080/"
        },
        "id": "l9YnwGVO0Xxx",
        "outputId": "0086458c-5bd7-45ba-d4b3-b61ad0bc4956"
      },
      "source": [
        "device = torch.device('cuda')\n",
        "if torch.cuda.is_available():\n",
        "    gpu_tensor = cpu_tensor.to(device)\n",
        "    print(gpu_tensor)"
      ],
      "execution_count": null,
      "outputs": [
        {
          "output_type": "stream",
          "name": "stdout",
          "text": [
            "tensor([[0., 0., 0.],\n",
            "        [0., 0., 0.]], device='cuda:0')\n"
          ]
        }
      ]
    },
    {
      "cell_type": "markdown",
      "metadata": {
        "id": "OjTyXMHx2D4x"
      },
      "source": [
        "### **YOLO 객체 탐지 모델**"
      ]
    },
    {
      "cell_type": "markdown",
      "metadata": {
        "id": "ifke8WP8L-jB"
      },
      "source": [
        "기존 URL https://github.com/eriklindernoren/PyTorch-YOLOv3"
      ]
    },
    {
      "cell_type": "code",
      "metadata": {
        "colab": {
          "base_uri": "https://localhost:8080/"
        },
        "id": "I7qQCJXf1-os",
        "outputId": "6f3fa3b7-cd19-414a-defe-ca5c8819b5bd"
      },
      "source": [
        "!git clone https://github.com/eriklindernoren/PyTorch-YOLOv3"
      ],
      "execution_count": null,
      "outputs": [
        {
          "output_type": "stream",
          "name": "stdout",
          "text": [
            "Cloning into 'PyTorch-YOLOv3'...\n",
            "remote: Enumerating objects: 1713, done.\u001b[K\n",
            "remote: Counting objects: 100% (38/38), done.\u001b[K\n",
            "remote: Compressing objects: 100% (36/36), done.\u001b[K\n",
            "remote: Total 1713 (delta 17), reused 12 (delta 2), pack-reused 1675\u001b[K\n",
            "Receiving objects: 100% (1713/1713), 16.47 MiB | 28.53 MiB/s, done.\n",
            "Resolving deltas: 100% (1024/1024), done.\n"
          ]
        }
      ]
    }
  ]
}